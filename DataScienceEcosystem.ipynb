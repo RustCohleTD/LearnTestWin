{
 "cells": [
  {
   "cell_type": "markdown",
   "id": "2aa3170d-277b-4010-ae6c-f8a7331acbf5",
   "metadata": {},
   "source": [
    "# Data Science Tools and Ecosystem"
   ]
  },
  {
   "cell_type": "markdown",
   "id": "ecb8759d-fd8c-4aaf-b3bc-33726238249a",
   "metadata": {},
   "source": [
    "##  In this notebook, Data Science Tools and Ecosystem are summarized."
   ]
  },
  {
   "cell_type": "markdown",
   "id": "0d8bb289-9671-4fc1-8c09-c970e1b531ef",
   "metadata": {},
   "source": [
    "### __Objectives__\n",
    "\n",
    "####  1. List popular languages for Data Science\n",
    "####  2. List popular tools for Data Science\n",
    "####  3. List popular packages for Data Science\n",
    "####  4. Some operations"
   ]
  },
  {
   "cell_type": "markdown",
   "id": "5a4cc825-d720-402a-b44c-259d5ac0e7c9",
   "metadata": {},
   "source": [
    "##  __Author:__\n",
    "### Rust Cohle"
   ]
  },
  {
   "cell_type": "markdown",
   "id": "cd5bee2c-c7dc-4832-bfdb-b7437edb4ed3",
   "metadata": {},
   "source": [
    "###  Some of the popular languages that Data Scientists use are:"
   ]
  },
  {
   "cell_type": "markdown",
   "id": "9ceec55d-b04b-48e5-abb2-8cf2b9a74a29",
   "metadata": {},
   "source": [
    "####     Python\n",
    "####     R\n",
    "####     SAS\n",
    "####     Spark\n",
    "####     Weka"
   ]
  },
  {
   "cell_type": "markdown",
   "id": "dfb9528b-1da1-4297-a4c3-5d891920da72",
   "metadata": {},
   "source": [
    "####    Some of the commonly used libraries used by Data Scientists include:\n",
    "#####     Python: Matplotlib, Scikit-learn, numpy etc\n",
    "#####     R: ggplot, caret, stringr etc"
   ]
  },
  {
   "cell_type": "markdown",
   "id": "b2249da1-9e1b-4c75-b00c-e837a7651a95",
   "metadata": {},
   "source": [
    "### Table\n",
    "|Number|Data Science Tools|\n",
    "|------|------|\n",
    "|1|Python|\n",
    "|2|Spark|\n",
    "|3|Airflow|\n",
    "|4|Tensorflow|"
   ]
  },
  {
   "cell_type": "markdown",
   "id": "6584465e-61a6-434f-940c-fcb1f8cf68cc",
   "metadata": {},
   "source": [
    "###     Below are a few examples of evaluating arithmetic expressions in Python"
   ]
  },
  {
   "cell_type": "markdown",
   "id": "c89c559b-912c-42b6-be18-7007ea9bf1b0",
   "metadata": {},
   "source": [
    "#####     This a simple arithmetic expression to mutiply then add integers"
   ]
  },
  {
   "cell_type": "code",
   "execution_count": 3,
   "id": "d2ccc699-b519-43b0-b61b-ea9d3495b76a",
   "metadata": {
    "jupyter": {
     "source_hidden": true
    }
   },
   "outputs": [
    {
     "data": {
      "text/plain": [
       "17"
      ]
     },
     "execution_count": 3,
     "metadata": {},
     "output_type": "execute_result"
    }
   ],
   "source": [
    "(3*4)+5"
   ]
  },
  {
   "cell_type": "markdown",
   "id": "a0465c97-6fda-43b6-941b-4542d261fdc1",
   "metadata": {},
   "source": [
    "#####     This will convert 200 minutes to hours by diving by 60"
   ]
  },
  {
   "cell_type": "code",
   "execution_count": 5,
   "id": "c66c5f0e-3988-4911-b57e-be86cbde8429",
   "metadata": {},
   "outputs": [
    {
     "name": "stdout",
     "output_type": "stream",
     "text": [
      "3  Hrs and  20  mins\n"
     ]
    }
   ],
   "source": [
    "given_min=200\n",
    "hr=int(given_min/60)\n",
    "rem_min=int(given_min%60)\n",
    "print(hr,' Hrs and ',rem_min,' mins')"
   ]
  },
  {
   "cell_type": "code",
   "execution_count": null,
   "id": "00e4b763-b113-4629-b081-4e1ed66d15de",
   "metadata": {},
   "outputs": [],
   "source": []
  }
 ],
 "metadata": {
  "kernelspec": {
   "display_name": "Python [conda env:base] *",
   "language": "python",
   "name": "conda-base-py"
  },
  "language_info": {
   "codemirror_mode": {
    "name": "ipython",
    "version": 3
   },
   "file_extension": ".py",
   "mimetype": "text/x-python",
   "name": "python",
   "nbconvert_exporter": "python",
   "pygments_lexer": "ipython3",
   "version": "3.12.7"
  }
 },
 "nbformat": 4,
 "nbformat_minor": 5
}
